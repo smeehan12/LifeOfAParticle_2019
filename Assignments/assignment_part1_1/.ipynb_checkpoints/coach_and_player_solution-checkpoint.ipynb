{
 "cells": [
  {
   "cell_type": "code",
   "execution_count": 2,
   "metadata": {},
   "outputs": [
    {
     "name": "stdout",
     "output_type": "stream",
     "text": [
      "[45, 65, 120, 85, 50, 110, 100, 80, 100, 55]\n"
     ]
    }
   ],
   "source": [
    "import random\n",
    "\n",
    "C=15\n",
    "\n",
    "speed = 5\n",
    "\n",
    "distances=[]\n",
    "\n",
    "for i in range(1000):\n",
    "    \n",
    "    d_this_run = 0\n",
    "    c_this_run = C\n",
    "    \n",
    "    while c_this_run>0:\n",
    "        \n",
    "        # roll for n candies\n",
    "        n = random.randint(1,6)\n",
    "        # roll for time of running\n",
    "        m = random.randint(1,6)\n",
    "        # eat the candies\n",
    "        # note that you may all the candies in which case it is negative\n",
    "        c_this_run = c_this_run-n\n",
    "        # run again\n",
    "        d_this_run = d_this_run + speed*m\n",
    "        \n",
    "    #print(\"test : \",i,\" d : \",d_this_run)\n",
    "    distances.append(d_this_run)\n",
    "\n",
    "print(distances[0:10])"
   ]
  },
  {
   "cell_type": "code",
   "execution_count": 7,
   "metadata": {},
   "outputs": [
    {
     "data": {
      "image/png": "[encoded data removed]",
      "text/plain": [
       "<Figure size 432x288 with 1 Axes>"
      ]
     },
     "metadata": {
      "needs_background": "light"
     },
     "output_type": "display_data"
    }
   ],
   "source": [
    "import matplotlib.pyplot as plt\n",
    "import numpy\n",
    "\n",
    "fig = plt.figure(0)\n",
    "n_data,bin_data,patches_data = plt.hist(distances, bins=numpy.arange(0,200,1))\n",
    "\n",
    "fig.show()\n"
   ]
  },
  {
   "cell_type": "code",
   "execution_count": 42,
   "metadata": {},
   "outputs": [],
   "source": [
    "fout = open(\"coach_and_player_distances.txt\",\"w\")\n",
    "\n",
    "for i in distances:\n",
    "    fout.write(str(i)+\"\\n\")\n",
    "    \n",
    "fout.close()"
   ]
  },
  {
   "cell_type": "code",
   "execution_count": 4,
   "metadata": {},
   "outputs": [],
   "source": [
    "def CalcChiSquare(h1,h2):\n",
    "    \n",
    "    chi2 = 0\n",
    "    \n",
    "    #check the nbins\n",
    "    if len(h1)!=len(h2):\n",
    "        print(\"This is nonsense - returning -1\")\n",
    "        chi2 = 0\n",
    "    else:\n",
    "        for i in range(len(h1)):\n",
    "            \n",
    "            if h1[i]==0 and h2[i]==0:\n",
    "                this_chi2 = 0\n",
    "            else:\n",
    "                this_chi2 = ((h1[i]-h2[i])**2)/(h1[i]+h2[i])\n",
    "            \n",
    "            chi2 = chi2 + this_chi2\n",
    "        \n",
    "    # give back the calculated value of chi2\n",
    "    return chi2"
   ]
  },
  {
   "cell_type": "code",
   "execution_count": 12,
   "metadata": {},
   "outputs": [],
   "source": [
    "def GenDistances(candies, ngen, speed):\n",
    "\n",
    "    distances = []\n",
    "\n",
    "    for i in range(ngen):\n",
    "\n",
    "        d_this_run = 0\n",
    "        c_this_run = candies\n",
    "\n",
    "        while c_this_run>0:\n",
    "\n",
    "            # roll for n candies\n",
    "            n = random.randint(1,6)\n",
    "            # roll for time of running\n",
    "            m = random.randint(1,6)\n",
    "            # eat the candies\n",
    "            # note that you may all the candies in which case it is negative\n",
    "            c_this_run = c_this_run-n\n",
    "            # run again\n",
    "            d_this_run = d_this_run + speed*m\n",
    "\n",
    "        #print(\"test : \",i,\" d : \",d_this_run)\n",
    "        distances.append(d_this_run)\n",
    "        \n",
    "    return distances"
   ]
  },
  {
   "cell_type": "code",
   "execution_count": 14,
   "metadata": {},
   "outputs": [
    {
     "name": "stdout",
     "output_type": "stream",
     "text": [
      "[90, 85, 55, 115, 65, 105, 95, 70, 65, 80]\n"
     ]
    },
    {
     "data": {
      "image/png": "[encoded data removed]",
      "text/plain": [
       "<Figure size 432x288 with 1 Axes>"
      ]
     },
     "metadata": {
      "needs_background": "light"
     },
     "output_type": "display_data"
    }
   ],
   "source": [
    "c=5\n",
    "gen_dist = GenDistances(c, 1000, speed)\n",
    "print(distances[0:10])\n",
    "fig=plt.figure(1)\n",
    "n_data,bin_data,patches_data = plt.hist(distances, bins=numpy.arange(0,200,1),color=\"b\")\n",
    "n_pred,bins_pred,patches_pred = plt.hist(gen_dist, bins=numpy.arange(0,200,1),color=\"r\")\n",
    "fig.show()"
   ]
  },
  {
   "cell_type": "code",
   "execution_count": 22,
   "metadata": {},
   "outputs": [
    {
     "data": {
      "image/png": "[encoded data removed]",
      "text/plain": [
       "<Figure size 432x288 with 1 Axes>"
      ]
     },
     "metadata": {
      "needs_background": "light"
     },
     "output_type": "display_data"
    }
   ],
   "source": [
    "import numpy\n",
    "\n",
    "test_c_vals=numpy.arange(0,50,1)\n",
    "test_chi2_vals=[]\n",
    "\n",
    "for c in test_c_vals:\n",
    "    \n",
    "    distances = GenDistances(c, 1000, speed)\n",
    "    \n",
    "    #print(distances[0:10])\n",
    "    \n",
    "    #fig=plt.figure()\n",
    "    \n",
    "    n_pred,bins_pred,patches_pred = plt.hist(distances, bins=numpy.arange(0,200,1))\n",
    "    \n",
    "    #fig.show()\n",
    "    \n",
    "    \n",
    "    chi2val = CalcChiSquare(n_pred,n_data)\n",
    "    \n",
    "    #print(\"c,chi2 : \",c,chi2val)\n",
    "    \n",
    "    test_chi2_vals.append(chi2val)\n",
    "    \n",
    "    #x=input()"
   ]
  },
  {
   "cell_type": "code",
   "execution_count": 23,
   "metadata": {},
   "outputs": [
    {
     "name": "stdout",
     "output_type": "stream",
     "text": [
      "50 50\n"
     ]
    },
    {
     "data": {
      "text/plain": [
       "[<matplotlib.lines.Line2D at 0x7fc3bf0a6be0>]"
      ]
     },
     "execution_count": 23,
     "metadata": {},
     "output_type": "execute_result"
    },
    {
     "data": {
      "image/png": "[encoded data removed]",
      "text/plain": [
       "<Figure size 432x288 with 1 Axes>"
      ]
     },
     "metadata": {
      "needs_background": "light"
     },
     "output_type": "display_data"
    }
   ],
   "source": [
    "print(len(test_c_vals),len(test_chi2_vals))\n",
    "\n",
    "fig = plt.figure()\n",
    "plt.plot(test_c_vals,test_chi2_vals)"
   ]
  },
  {
   "cell_type": "code",
   "execution_count": null,
   "metadata": {},
   "outputs": [],
   "source": []
  }
 ],
 "metadata": {
  "kernelspec": {
   "display_name": "Python 3",
   "language": "python",
   "name": "python3"
  },
  "language_info": {
   "codemirror_mode": {
    "name": "ipython",
    "version": 3
   },
   "file_extension": ".py",
   "mimetype": "text/x-python",
   "name": "python",
   "nbconvert_exporter": "python",
   "pygments_lexer": "ipython3",
   "version": "3.7.1"
  }
 },
 "nbformat": 4,
 "nbformat_minor": 2
}
