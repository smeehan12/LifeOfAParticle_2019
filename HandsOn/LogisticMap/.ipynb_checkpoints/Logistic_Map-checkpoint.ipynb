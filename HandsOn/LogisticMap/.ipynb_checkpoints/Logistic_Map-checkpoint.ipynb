{
 "cells": [
  {
   "cell_type": "markdown",
   "metadata": {},
   "source": [
    "# The Logistic Map\n",
    "This is a demonstration of the logistic map method to generate pseudo-random numbers.  They will appear to be uniformly distributed ... but aren't quite.\n",
    "\n",
    "For more details, the curious individual is referred to - https://en.wikipedia.org/wiki/Logistic_map"
   ]
  },
  {
   "cell_type": "code",
   "execution_count": 1,
   "metadata": {},
   "outputs": [],
   "source": [
    "# we will need plotting and a couple math functions\n",
    "import matplotlib.pyplot as plt\n",
    "import numpy"
   ]
  },
  {
   "cell_type": "code",
   "execution_count": 2,
   "metadata": {},
   "outputs": [],
   "source": [
    "# setup the parameter that controls the \"chaotic\" nature of the map\n",
    "# try changing this from 0.9 --> 0.99 --> .... --> 0.999999\n",
    "L = 0.999999\n",
    "\n",
    "# number of numbers to generate\n",
    "ngen = 10000\n",
    "\n",
    "# make the x sequence\n",
    "# give it an initial x[0]=0.1 value\n",
    "x=[0.1]\n",
    "for i in range(ngen):\n",
    "    # calculate the next value in the list\n",
    "    xnext = 4.0*L*x[i]*(1-x[i])\n",
    "    # put that onto the list\n",
    "    x.append(xnext)\n",
    "    "
   ]
  },
  {
   "cell_type": "code",
   "execution_count": 3,
   "metadata": {},
   "outputs": [
    {
     "data": {
      "image/png": "[encoded data removed]",
      "text/plain": [
       "<Figure size 432x288 with 1 Axes>"
      ]
     },
     "metadata": {
      "needs_background": "light"
     },
     "output_type": "display_data"
    }
   ],
   "source": [
    "# make a plot of the x values\n",
    "fig = plt.figure()\n",
    "plt.hist(x,bins=300,range=(-1,2))\n",
    "plt.xlabel(\"x value\")\n",
    "plt.ylabel(\"n entries\")\n",
    "plt.show()"
   ]
  },
  {
   "cell_type": "code",
   "execution_count": 5,
   "metadata": {},
   "outputs": [],
   "source": [
    "# transform these into the y values through the rule\n",
    "# y = (2/pi)*arcsin(sqrt(x))\n",
    "#\n",
    "# this will remove the bias that we observe in the previous step\n",
    "\n",
    "y=[]\n",
    "for i in x:\n",
    "    ynext = (2.0/numpy.pi)*numpy.arcsin(i**0.5)\n",
    "    y.append(ynext)\n",
    "    "
   ]
  },
  {
   "cell_type": "code",
   "execution_count": 6,
   "metadata": {},
   "outputs": [
    {
     "data": {
      "image/png": "[encoded data removed]",
      "text/plain": [
       "<Figure size 432x288 with 1 Axes>"
      ]
     },
     "metadata": {
      "needs_background": "light"
     },
     "output_type": "display_data"
    }
   ],
   "source": [
    "# make a plot of the x values\n",
    "fig = plt.figure()\n",
    "plt.hist(y,bins=300,range=(-1,2))\n",
    "plt.xlabel(\"y value\")\n",
    "plt.ylabel(\"n entries\")\n",
    "plt.show()"
   ]
  },
  {
   "cell_type": "code",
   "execution_count": 7,
   "metadata": {},
   "outputs": [],
   "source": [
    "# now let's examine the 2D correlations of (y[i], y[i+1])\n",
    "# start by reorganizing the data into two arrays\n",
    "vals_y_1=[]\n",
    "vals_y_2=[]\n",
    "\n",
    "for i in range(len(y)-1):\n",
    "    vals_y_1.append(y[i])\n",
    "    vals_y_2.append(y[i+1])\n",
    "    "
   ]
  },
  {
   "cell_type": "code",
   "execution_count": 8,
   "metadata": {},
   "outputs": [
    {
     "data": {
      "text/plain": [
       "Text(0, 0.5, 'Value of y[i+1]')"
      ]
     },
     "execution_count": 8,
     "metadata": {},
     "output_type": "execute_result"
    },
    {
     "data": {
      "image/png": "[encoded data removed]",
      "text/plain": [
       "<Figure size 432x288 with 1 Axes>"
      ]
     },
     "metadata": {
      "needs_background": "light"
     },
     "output_type": "display_data"
    }
   ],
   "source": [
    "# make the plot\n",
    "fig = plt.figure()\n",
    "plt.hist2d(vals_y_1,vals_y_2,bins=(100,100),range=([0,1],[0,1]), cmin=1);\n",
    "plt.xlabel(\"Value of y[i]\")\n",
    "plt.ylabel(\"Value of y[i+1]\")"
   ]
  },
  {
   "cell_type": "code",
   "execution_count": null,
   "metadata": {},
   "outputs": [],
   "source": []
  }
 ],
 "metadata": {
  "kernelspec": {
   "display_name": "Python 3",
   "language": "python",
   "name": "python3"
  },
  "language_info": {
   "codemirror_mode": {
    "name": "ipython",
    "version": 3
   },
   "file_extension": ".py",
   "mimetype": "text/x-python",
   "name": "python",
   "nbconvert_exporter": "python",
   "pygments_lexer": "ipython3",
   "version": "3.7.1"
  }
 },
 "nbformat": 4,
 "nbformat_minor": 2
}
